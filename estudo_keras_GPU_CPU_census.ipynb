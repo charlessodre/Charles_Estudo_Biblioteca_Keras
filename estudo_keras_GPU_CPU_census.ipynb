{
 "cells": [
  {
   "cell_type": "markdown",
   "metadata": {},
   "source": [
    "# Estudo Biblioteca Keras explorando o uso da GPU / CPU\n",
    "- O objetivo deste notebook é o estudo da Biblioteca Keras.\n",
    "- Keras é uma biblioteca para rede neural de alto-nível escrita em Python. Ela roda como frontend em TensorFlow ou Theano. \n",
    "- Uma das grandes vantagens de utilizar essa biblioteca é que podemos substituir uma rede neural por outra de maneira muito fácil, pois ela foi criada com intuito de tornar essas experimentações mais fáceis, rápidas e eficientes. Com o Keras você pode abstrair tudo que acontece em background e focar no seu problema.\n",
    "- Mais detalhes na página do projeto disponível neste <a href=\"https://keras.io/\">link</a>.\n",
    "\n",
    "<h3> Onde usar o Keras? </h3>\n",
    "\n",
    "- Prototipagem rápida e fácil (total modularidade, minimalismo e extensibilidade).\n",
    "- Suporte a redes convolucionais e recorrentes, incluindo combinação de ambas.\n",
    "- Suporte a esquemas de conectividade arbitrária (incluindo treino de N para N).\n",
    "- Rodar na CPU ou GPU.\n",
    "\n",
    "<h3> DataSet </h3>\n",
    "- Para este estudo vamos utilizar o data set 'census.csv'.</br>\n",
    "- Este dataset contém 15 atributos e 32.561 instâncias (linhas). </br>\n",
    "\n",
    "<h3> Ambiente dos Testes de CPU e GPU </h3>\n",
    "- Estes testes foram realizados no notebook \"Dell G7 15 7588\" </br>\n",
    "- Memória: 16GB (2x8GB) 2666MHz DDR4 Memory </br>\n",
    "- Processador: CPU(8th Generation Intel(R) Core(TM) i7-8750H Processor (6-Core, 9MB Cache, up to 4.1GHz w/ Turbo Boost)) </br>\n",
    "- Placa de Vídeo: GPU (Nvidia GeForce GTX 1060) </br>\n",
    "- Linux Ubuntu 18.04 (kernel 5.0.0-25-generic)</br>\n",
    "- Driver Version: 430.26</br>\n",
    "- CUDA Version: 10.2 </br>\n",
    "- Keras Version: '2.2.4'</br>\n",
    "- TensorFlow Version: '1.14.0'</br>\n",
    "- NVIDIA-SMI 430.26 </br>             "
   ]
  },
  {
   "cell_type": "code",
   "execution_count": 1,
   "metadata": {},
   "outputs": [],
   "source": [
    "# Importando as bibliotecas iniciais\n",
    "import pandas as pd\n",
    "import numpy as np\n",
    "from datetime import datetime\n",
    "import os\n",
    "import math\n",
    "import tensorflow as tf"
   ]
  },
  {
   "cell_type": "code",
   "execution_count": 2,
   "metadata": {},
   "outputs": [],
   "source": [
    "# Importa o dataset\n",
    "base = pd.read_csv('./census.csv')"
   ]
  },
  {
   "cell_type": "code",
   "execution_count": 3,
   "metadata": {},
   "outputs": [
    {
     "data": {
      "text/plain": [
       "(32561, 15)"
      ]
     },
     "execution_count": 3,
     "metadata": {},
     "output_type": "execute_result"
    }
   ],
   "source": [
    "# Verificando o shape do dataset\n",
    "base.shape"
   ]
  },
  {
   "cell_type": "code",
   "execution_count": 4,
   "metadata": {},
   "outputs": [
    {
     "data": {
      "text/html": [
       "<div>\n",
       "<style scoped>\n",
       "    .dataframe tbody tr th:only-of-type {\n",
       "        vertical-align: middle;\n",
       "    }\n",
       "\n",
       "    .dataframe tbody tr th {\n",
       "        vertical-align: top;\n",
       "    }\n",
       "\n",
       "    .dataframe thead th {\n",
       "        text-align: right;\n",
       "    }\n",
       "</style>\n",
       "<table border=\"1\" class=\"dataframe\">\n",
       "  <thead>\n",
       "    <tr style=\"text-align: right;\">\n",
       "      <th></th>\n",
       "      <th>age</th>\n",
       "      <th>workclass</th>\n",
       "      <th>final-weight</th>\n",
       "      <th>education</th>\n",
       "      <th>education-num</th>\n",
       "      <th>marital-status</th>\n",
       "      <th>occupation</th>\n",
       "      <th>relationship</th>\n",
       "      <th>race</th>\n",
       "      <th>sex</th>\n",
       "      <th>capital-gain</th>\n",
       "      <th>capital-loos</th>\n",
       "      <th>hour-per-week</th>\n",
       "      <th>native-country</th>\n",
       "      <th>income</th>\n",
       "    </tr>\n",
       "  </thead>\n",
       "  <tbody>\n",
       "    <tr>\n",
       "      <th>0</th>\n",
       "      <td>39</td>\n",
       "      <td>State-gov</td>\n",
       "      <td>77516</td>\n",
       "      <td>Bachelors</td>\n",
       "      <td>13</td>\n",
       "      <td>Never-married</td>\n",
       "      <td>Adm-clerical</td>\n",
       "      <td>Not-in-family</td>\n",
       "      <td>White</td>\n",
       "      <td>Male</td>\n",
       "      <td>2174</td>\n",
       "      <td>0</td>\n",
       "      <td>40</td>\n",
       "      <td>United-States</td>\n",
       "      <td>&lt;=50K</td>\n",
       "    </tr>\n",
       "    <tr>\n",
       "      <th>1</th>\n",
       "      <td>50</td>\n",
       "      <td>Self-emp-not-inc</td>\n",
       "      <td>83311</td>\n",
       "      <td>Bachelors</td>\n",
       "      <td>13</td>\n",
       "      <td>Married-civ-spouse</td>\n",
       "      <td>Exec-managerial</td>\n",
       "      <td>Husband</td>\n",
       "      <td>White</td>\n",
       "      <td>Male</td>\n",
       "      <td>0</td>\n",
       "      <td>0</td>\n",
       "      <td>13</td>\n",
       "      <td>United-States</td>\n",
       "      <td>&lt;=50K</td>\n",
       "    </tr>\n",
       "    <tr>\n",
       "      <th>2</th>\n",
       "      <td>38</td>\n",
       "      <td>Private</td>\n",
       "      <td>215646</td>\n",
       "      <td>HS-grad</td>\n",
       "      <td>9</td>\n",
       "      <td>Divorced</td>\n",
       "      <td>Handlers-cleaners</td>\n",
       "      <td>Not-in-family</td>\n",
       "      <td>White</td>\n",
       "      <td>Male</td>\n",
       "      <td>0</td>\n",
       "      <td>0</td>\n",
       "      <td>40</td>\n",
       "      <td>United-States</td>\n",
       "      <td>&lt;=50K</td>\n",
       "    </tr>\n",
       "    <tr>\n",
       "      <th>3</th>\n",
       "      <td>53</td>\n",
       "      <td>Private</td>\n",
       "      <td>234721</td>\n",
       "      <td>11th</td>\n",
       "      <td>7</td>\n",
       "      <td>Married-civ-spouse</td>\n",
       "      <td>Handlers-cleaners</td>\n",
       "      <td>Husband</td>\n",
       "      <td>Black</td>\n",
       "      <td>Male</td>\n",
       "      <td>0</td>\n",
       "      <td>0</td>\n",
       "      <td>40</td>\n",
       "      <td>United-States</td>\n",
       "      <td>&lt;=50K</td>\n",
       "    </tr>\n",
       "    <tr>\n",
       "      <th>4</th>\n",
       "      <td>28</td>\n",
       "      <td>Private</td>\n",
       "      <td>338409</td>\n",
       "      <td>Bachelors</td>\n",
       "      <td>13</td>\n",
       "      <td>Married-civ-spouse</td>\n",
       "      <td>Prof-specialty</td>\n",
       "      <td>Wife</td>\n",
       "      <td>Black</td>\n",
       "      <td>Female</td>\n",
       "      <td>0</td>\n",
       "      <td>0</td>\n",
       "      <td>40</td>\n",
       "      <td>Cuba</td>\n",
       "      <td>&lt;=50K</td>\n",
       "    </tr>\n",
       "  </tbody>\n",
       "</table>\n",
       "</div>"
      ],
      "text/plain": [
       "   age          workclass  final-weight   education  education-num  \\\n",
       "0   39          State-gov         77516   Bachelors             13   \n",
       "1   50   Self-emp-not-inc         83311   Bachelors             13   \n",
       "2   38            Private        215646     HS-grad              9   \n",
       "3   53            Private        234721        11th              7   \n",
       "4   28            Private        338409   Bachelors             13   \n",
       "\n",
       "        marital-status          occupation    relationship    race      sex  \\\n",
       "0        Never-married        Adm-clerical   Not-in-family   White     Male   \n",
       "1   Married-civ-spouse     Exec-managerial         Husband   White     Male   \n",
       "2             Divorced   Handlers-cleaners   Not-in-family   White     Male   \n",
       "3   Married-civ-spouse   Handlers-cleaners         Husband   Black     Male   \n",
       "4   Married-civ-spouse      Prof-specialty            Wife   Black   Female   \n",
       "\n",
       "   capital-gain  capital-loos  hour-per-week  native-country  income  \n",
       "0          2174             0             40   United-States   <=50K  \n",
       "1             0             0             13   United-States   <=50K  \n",
       "2             0             0             40   United-States   <=50K  \n",
       "3             0             0             40   United-States   <=50K  \n",
       "4             0             0             40            Cuba   <=50K  "
      ]
     },
     "execution_count": 4,
     "metadata": {},
     "output_type": "execute_result"
    }
   ],
   "source": [
    "# Visualiza as primeira linhas\n",
    "base.head()"
   ]
  },
  {
   "cell_type": "code",
   "execution_count": 5,
   "metadata": {},
   "outputs": [
    {
     "data": {
      "text/html": [
       "<div>\n",
       "<style scoped>\n",
       "    .dataframe tbody tr th:only-of-type {\n",
       "        vertical-align: middle;\n",
       "    }\n",
       "\n",
       "    .dataframe tbody tr th {\n",
       "        vertical-align: top;\n",
       "    }\n",
       "\n",
       "    .dataframe thead th {\n",
       "        text-align: right;\n",
       "    }\n",
       "</style>\n",
       "<table border=\"1\" class=\"dataframe\">\n",
       "  <thead>\n",
       "    <tr style=\"text-align: right;\">\n",
       "      <th></th>\n",
       "      <th>age</th>\n",
       "      <th>final-weight</th>\n",
       "      <th>education-num</th>\n",
       "      <th>capital-gain</th>\n",
       "      <th>capital-loos</th>\n",
       "      <th>hour-per-week</th>\n",
       "    </tr>\n",
       "  </thead>\n",
       "  <tbody>\n",
       "    <tr>\n",
       "      <th>count</th>\n",
       "      <td>32561.000000</td>\n",
       "      <td>3.256100e+04</td>\n",
       "      <td>32561.000000</td>\n",
       "      <td>32561.000000</td>\n",
       "      <td>32561.000000</td>\n",
       "      <td>32561.000000</td>\n",
       "    </tr>\n",
       "    <tr>\n",
       "      <th>mean</th>\n",
       "      <td>38.581647</td>\n",
       "      <td>1.897784e+05</td>\n",
       "      <td>10.080679</td>\n",
       "      <td>1077.648844</td>\n",
       "      <td>87.303830</td>\n",
       "      <td>40.437456</td>\n",
       "    </tr>\n",
       "    <tr>\n",
       "      <th>std</th>\n",
       "      <td>13.640433</td>\n",
       "      <td>1.055500e+05</td>\n",
       "      <td>2.572720</td>\n",
       "      <td>7385.292085</td>\n",
       "      <td>402.960219</td>\n",
       "      <td>12.347429</td>\n",
       "    </tr>\n",
       "    <tr>\n",
       "      <th>min</th>\n",
       "      <td>17.000000</td>\n",
       "      <td>1.228500e+04</td>\n",
       "      <td>1.000000</td>\n",
       "      <td>0.000000</td>\n",
       "      <td>0.000000</td>\n",
       "      <td>1.000000</td>\n",
       "    </tr>\n",
       "    <tr>\n",
       "      <th>25%</th>\n",
       "      <td>28.000000</td>\n",
       "      <td>1.178270e+05</td>\n",
       "      <td>9.000000</td>\n",
       "      <td>0.000000</td>\n",
       "      <td>0.000000</td>\n",
       "      <td>40.000000</td>\n",
       "    </tr>\n",
       "    <tr>\n",
       "      <th>50%</th>\n",
       "      <td>37.000000</td>\n",
       "      <td>1.783560e+05</td>\n",
       "      <td>10.000000</td>\n",
       "      <td>0.000000</td>\n",
       "      <td>0.000000</td>\n",
       "      <td>40.000000</td>\n",
       "    </tr>\n",
       "    <tr>\n",
       "      <th>75%</th>\n",
       "      <td>48.000000</td>\n",
       "      <td>2.370510e+05</td>\n",
       "      <td>12.000000</td>\n",
       "      <td>0.000000</td>\n",
       "      <td>0.000000</td>\n",
       "      <td>45.000000</td>\n",
       "    </tr>\n",
       "    <tr>\n",
       "      <th>max</th>\n",
       "      <td>90.000000</td>\n",
       "      <td>1.484705e+06</td>\n",
       "      <td>16.000000</td>\n",
       "      <td>99999.000000</td>\n",
       "      <td>4356.000000</td>\n",
       "      <td>99.000000</td>\n",
       "    </tr>\n",
       "  </tbody>\n",
       "</table>\n",
       "</div>"
      ],
      "text/plain": [
       "                age  final-weight  education-num  capital-gain  capital-loos  \\\n",
       "count  32561.000000  3.256100e+04   32561.000000  32561.000000  32561.000000   \n",
       "mean      38.581647  1.897784e+05      10.080679   1077.648844     87.303830   \n",
       "std       13.640433  1.055500e+05       2.572720   7385.292085    402.960219   \n",
       "min       17.000000  1.228500e+04       1.000000      0.000000      0.000000   \n",
       "25%       28.000000  1.178270e+05       9.000000      0.000000      0.000000   \n",
       "50%       37.000000  1.783560e+05      10.000000      0.000000      0.000000   \n",
       "75%       48.000000  2.370510e+05      12.000000      0.000000      0.000000   \n",
       "max       90.000000  1.484705e+06      16.000000  99999.000000   4356.000000   \n",
       "\n",
       "       hour-per-week  \n",
       "count   32561.000000  \n",
       "mean       40.437456  \n",
       "std        12.347429  \n",
       "min         1.000000  \n",
       "25%        40.000000  \n",
       "50%        40.000000  \n",
       "75%        45.000000  \n",
       "max        99.000000  "
      ]
     },
     "execution_count": 5,
     "metadata": {},
     "output_type": "execute_result"
    }
   ],
   "source": [
    "# Verificando os atributos núméricos.\n",
    "base.describe()"
   ]
  },
  {
   "cell_type": "markdown",
   "metadata": {},
   "source": [
    "# Pré-processamento - Tratamento dos dados"
   ]
  },
  {
   "cell_type": "code",
   "execution_count": 6,
   "metadata": {},
   "outputs": [
    {
     "data": {
      "text/plain": [
       "array([[39, ' State-gov', 77516, ..., 0, 40, ' United-States'],\n",
       "       [50, ' Self-emp-not-inc', 83311, ..., 0, 13, ' United-States'],\n",
       "       [38, ' Private', 215646, ..., 0, 40, ' United-States'],\n",
       "       ...,\n",
       "       [58, ' Private', 151910, ..., 0, 40, ' United-States'],\n",
       "       [22, ' Private', 201490, ..., 0, 20, ' United-States'],\n",
       "       [52, ' Self-emp-inc', 287927, ..., 0, 40, ' United-States']],\n",
       "      dtype=object)"
      ]
     },
     "execution_count": 6,
     "metadata": {},
     "output_type": "execute_result"
    }
   ],
   "source": [
    "# Seleciona os atributos previsores\n",
    "previsores = base.iloc[:, 0:14].values\n",
    "previsores"
   ]
  },
  {
   "cell_type": "code",
   "execution_count": 7,
   "metadata": {},
   "outputs": [
    {
     "data": {
      "text/plain": [
       "0     <=50K\n",
       "1     <=50K\n",
       "2     <=50K\n",
       "3     <=50K\n",
       "4     <=50K\n",
       "Name: income, dtype: object"
      ]
     },
     "execution_count": 7,
     "metadata": {},
     "output_type": "execute_result"
    }
   ],
   "source": [
    "# Seleciona a classe alvo (target)\n",
    "classe = base.iloc[:,14]\n",
    "classe.head()"
   ]
  },
  {
   "cell_type": "code",
   "execution_count": 8,
   "metadata": {},
   "outputs": [
    {
     "data": {
      "text/plain": [
       "array([[39, 7, 77516, ..., 0, 40, 39],\n",
       "       [50, 6, 83311, ..., 0, 13, 39],\n",
       "       [38, 4, 215646, ..., 0, 40, 39],\n",
       "       ...,\n",
       "       [58, 4, 151910, ..., 0, 40, 39],\n",
       "       [22, 4, 201490, ..., 0, 20, 39],\n",
       "       [52, 5, 287927, ..., 0, 40, 39]], dtype=object)"
      ]
     },
     "execution_count": 8,
     "metadata": {},
     "output_type": "execute_result"
    }
   ],
   "source": [
    "# Realiza a codificação dos atributos categóricos. Transforma as categorias em códigos.\n",
    "from sklearn.preprocessing import LabelEncoder\n",
    "\n",
    "label_encoder_previsores = LabelEncoder()\n",
    "previsores[:,1] = label_encoder_previsores.fit_transform(previsores[:,1])\n",
    "previsores[:,3] = label_encoder_previsores.fit_transform(previsores[:,3])\n",
    "previsores[:,5] = label_encoder_previsores.fit_transform(previsores[:,5])\n",
    "previsores[:,6] = label_encoder_previsores.fit_transform(previsores[:,6])\n",
    "previsores[:,7] = label_encoder_previsores.fit_transform(previsores[:,7])\n",
    "previsores[:,8] = label_encoder_previsores.fit_transform(previsores[:,8])\n",
    "previsores[:,9] = label_encoder_previsores.fit_transform(previsores[:,9])\n",
    "previsores[:,13] = label_encoder_previsores.fit_transform(previsores[:,13])\n",
    "previsores"
   ]
  },
  {
   "cell_type": "code",
   "execution_count": 9,
   "metadata": {},
   "outputs": [],
   "source": [
    "# Realiza a codificação da classe (target). Transforma as categorias em códigos.\n",
    "labelencoder_classe = LabelEncoder()\n",
    "classe = labelencoder_classe.fit_transform(classe)"
   ]
  },
  {
   "cell_type": "code",
   "execution_count": 10,
   "metadata": {},
   "outputs": [],
   "source": [
    "# Realiza a binarização dos valores inteiros. Técnica chamada: Dummy variables.\n",
    "# Isto é importante para que o algoritmo não considere um valor maior mais importante que um valor menor. \n",
    "# Não tivemos ganhos com ele, por isso vamos deixar dasabilitado.\n",
    "\n",
    "#from sklearn.preprocessing import OneHotEncoder\n",
    "\n",
    "#oneHotEnconder = OneHotEncoder(categories='auto')\n",
    "#previsores = oneHotEnconder.fit_transform(previsores).toarray()\n",
    "#previsores"
   ]
  },
  {
   "cell_type": "code",
   "execution_count": 11,
   "metadata": {},
   "outputs": [],
   "source": [
    "# StandardScaler para colocar todos os valores na mesma escala (escalonamento).\n",
    "# Teste do escalonamente de todos atributos, tivemos melhoria no modelo. \n",
    "# Tivemos praticamente o mesma Acurácia da padronização parcial (abaixo). Por isso, vamos deixar ele dasabilitado.\n",
    "\n",
    "#from sklearn.preprocessing import StandardScaler\n",
    "#scaler = StandardScaler()\n",
    "#previsores = scaler.fit_transform(previsores)"
   ]
  },
  {
   "cell_type": "code",
   "execution_count": 12,
   "metadata": {},
   "outputs": [],
   "source": [
    "# StandardScaler para colocar todos os valores na mesma escala (escalonamento).\n",
    "# Teste do escalonamente somente dos atributos inteiros, também tivemos o mesmo resultado da padronização total. Tivemos praticamente o mesma Acurácia com o escalonamento total. \n",
    "# Vamos deixar ele habilitado.\n",
    "\n",
    "from sklearn.preprocessing import StandardScaler\n",
    "scaler = StandardScaler()\n",
    "\n",
    "previsores[:,0] =  scaler.fit_transform(previsores[:,0].reshape(-1,1)).ravel()\n",
    "previsores[:,2] =  scaler.fit_transform(previsores[:,2].reshape(-1,1)).ravel()\n",
    "previsores[:,4] =  scaler.fit_transform(previsores[:,4].reshape(-1,1)).ravel()\n",
    "previsores[:,10] =  scaler.fit_transform(previsores[:,10].reshape(-1,1)).ravel()\n",
    "previsores[:,11] =  scaler.fit_transform(previsores[:,11].reshape(-1,1)).ravel()\n",
    "previsores[:,12] =  scaler.fit_transform(previsores[:,12].reshape(-1,1)).ravel()"
   ]
  },
  {
   "cell_type": "code",
   "execution_count": 13,
   "metadata": {},
   "outputs": [],
   "source": [
    "# Separa os dados pata treinamento e teste\n",
    "from sklearn.model_selection import train_test_split\n",
    "previsores_treinamento, previsores_teste, classe_treinamento, classe_teste = train_test_split(previsores, classe , test_size = 0.25, random_state = 0)\n"
   ]
  },
  {
   "cell_type": "code",
   "execution_count": 14,
   "metadata": {},
   "outputs": [
    {
     "name": "stdout",
     "output_type": "stream",
     "text": [
      "Forçando o uso da CPU.\n"
     ]
    }
   ],
   "source": [
    "# Desabilita a Execução por GPU.\n",
    "# Força o uso da CPU.\n",
    "\n",
    "forcar_Uso_CPU = True\n",
    "\n",
    "os.environ[\"CUDA_DEVICE_ORDER\"] = \"PCI_BUS_ID\"\n",
    "\n",
    "if forcar_Uso_CPU:\n",
    "    print(\"Forçando o uso da CPU.\")\n",
    "    os.environ[\"CUDA_VISIBLE_DEVICES\"] = \"\"\n",
    "else:\n",
    "    print(\"Forçando o uso da GPU.\")\n",
    "    os.environ[\"CUDA_VISIBLE_DEVICES\"] = '0'\n",
    "\n",
    "# Use o \"nvidia-smi -l 2\" no terminal para monitorar o uso da GPU (refresh a cada 2 segundos).\n",
    "# https://homepages.uc.edu/~schreihf/uchenry/post/using-gpus/"
   ]
  },
  {
   "cell_type": "code",
   "execution_count": 15,
   "metadata": {},
   "outputs": [],
   "source": [
    "# Criando a função para formatar a exibição dos bytes\n",
    "def convert_size(size_bytes):\n",
    "   if size_bytes == 0:\n",
    "       return \"0B\"\n",
    "   size_name = (\"B\", \"KB\", \"MB\", \"GB\", \"TB\", \"PB\", \"EB\", \"ZB\", \"YB\")\n",
    "   i = int(math.floor(math.log(size_bytes, 1024)))\n",
    "   p = math.pow(1024, i)\n",
    "   s = round(size_bytes / p, 2)\n",
    "   return \"%s %s\" % (s, size_name[i])"
   ]
  },
  {
   "cell_type": "code",
   "execution_count": 16,
   "metadata": {},
   "outputs": [
    {
     "name": "stdout",
     "output_type": "stream",
     "text": [
      "Quantidade de recursos da sessão: 2\n",
      "\n",
      "Tipo: CPU | Nome: CPU | Limite de memória: 256.0 MB\n",
      "\n",
      "Tipo: XLA_CPU | Nome: XLA_CPU | Limite de memória: 16.0 GB\n"
     ]
    }
   ],
   "source": [
    "# Exibe a lista de recursos da sessão.\n",
    "with tf.Session() as sess:\n",
    "  devices = sess.list_devices()\n",
    "\n",
    "print('Quantidade de recursos da sessão: {}'.format(len(devices)))\n",
    "for dev in devices:\n",
    "    print(\"\\nTipo: {} | Nome: {} | Limite de memória: {}\".format( dev.device_type, dev.name.split(':')[-2], convert_size(dev.memory_limit_bytes) ))\n",
    "    "
   ]
  },
  {
   "cell_type": "code",
   "execution_count": null,
   "metadata": {},
   "outputs": [],
   "source": []
  },
  {
   "cell_type": "markdown",
   "metadata": {},
   "source": [
    "# Criando o Modelo de Previsão"
   ]
  },
  {
   "cell_type": "code",
   "execution_count": 17,
   "metadata": {},
   "outputs": [
    {
     "name": "stderr",
     "output_type": "stream",
     "text": [
      "Using TensorFlow backend.\n",
      "WARNING: Logging before flag parsing goes to stderr.\n",
      "W0816 15:19:17.454331 140579071416128 deprecation_wrapper.py:119] From /home/charles/anaconda3/lib/python3.7/site-packages/keras/backend/tensorflow_backend.py:74: The name tf.get_default_graph is deprecated. Please use tf.compat.v1.get_default_graph instead.\n",
      "\n",
      "W0816 15:19:17.455577 140579071416128 deprecation_wrapper.py:119] From /home/charles/anaconda3/lib/python3.7/site-packages/keras/backend/tensorflow_backend.py:517: The name tf.placeholder is deprecated. Please use tf.compat.v1.placeholder instead.\n",
      "\n",
      "W0816 15:19:17.457187 140579071416128 deprecation_wrapper.py:119] From /home/charles/anaconda3/lib/python3.7/site-packages/keras/backend/tensorflow_backend.py:4138: The name tf.random_uniform is deprecated. Please use tf.random.uniform instead.\n",
      "\n",
      "W0816 15:19:17.481917 140579071416128 deprecation_wrapper.py:119] From /home/charles/anaconda3/lib/python3.7/site-packages/keras/optimizers.py:790: The name tf.train.Optimizer is deprecated. Please use tf.compat.v1.train.Optimizer instead.\n",
      "\n",
      "W0816 15:19:17.494568 140579071416128 deprecation_wrapper.py:119] From /home/charles/anaconda3/lib/python3.7/site-packages/keras/backend/tensorflow_backend.py:3376: The name tf.log is deprecated. Please use tf.math.log instead.\n",
      "\n",
      "W0816 15:19:17.497347 140579071416128 deprecation.py:323] From /home/charles/anaconda3/lib/python3.7/site-packages/tensorflow/python/ops/nn_impl.py:180: add_dispatch_support.<locals>.wrapper (from tensorflow.python.ops.array_ops) is deprecated and will be removed in a future version.\n",
      "Instructions for updating:\n",
      "Use tf.where in 2.0, which has the same broadcast rule as np.where\n"
     ]
    }
   ],
   "source": [
    "# Cria o modelo de previsão \n",
    "# import keras\n",
    "\n",
    "from keras.models import Sequential\n",
    "from keras.layers import Dense\n",
    "\n",
    "# Cria camada de entrada da rede\n",
    "classificador = Sequential()\n",
    "\n",
    "# Cria a 1 camada oculta da rede\n",
    "classificador.add(Dense(units = 8, activation = 'relu', input_dim = 14))\n",
    "\n",
    "# Cria a 2 camada oculta da rede\n",
    "classificador.add(Dense(units = 8, activation = 'relu'))\n",
    "\n",
    "# Cria a camada de saida da rede\n",
    "classificador.add(Dense(units = 1, activation = 'sigmoid'))\n",
    "\n",
    "# Aplica as configurações no modelo para o treinamento.\n",
    "classificador.compile(optimizer = 'adam', loss = 'binary_crossentropy', metrics = ['accuracy'])\n"
   ]
  },
  {
   "cell_type": "code",
   "execution_count": null,
   "metadata": {},
   "outputs": [],
   "source": []
  },
  {
   "cell_type": "code",
   "execution_count": 18,
   "metadata": {
    "scrolled": true
   },
   "outputs": [
    {
     "name": "stderr",
     "output_type": "stream",
     "text": [
      "W0816 15:19:17.608872 140579071416128 deprecation_wrapper.py:119] From /home/charles/anaconda3/lib/python3.7/site-packages/keras/backend/tensorflow_backend.py:986: The name tf.assign_add is deprecated. Please use tf.compat.v1.assign_add instead.\n",
      "\n"
     ]
    },
    {
     "name": "stdout",
     "output_type": "stream",
     "text": [
      "Epoch 1/100\n",
      "24420/24420 [==============================] - 2s 83us/step - loss: 0.4476 - acc: 0.7763\n",
      "Epoch 2/100\n",
      "24420/24420 [==============================] - 2s 74us/step - loss: 0.3682 - acc: 0.8290\n",
      "Epoch 3/100\n",
      "24420/24420 [==============================] - 2s 62us/step - loss: 0.3413 - acc: 0.8388\n",
      "Epoch 4/100\n",
      "24420/24420 [==============================] - 2s 65us/step - loss: 0.3360 - acc: 0.8428\n",
      "Epoch 5/100\n",
      "24420/24420 [==============================] - 2s 73us/step - loss: 0.3352 - acc: 0.8430\n",
      "Epoch 6/100\n",
      "24420/24420 [==============================] - 1s 60us/step - loss: 0.3340 - acc: 0.8441\n",
      "Epoch 7/100\n",
      "24420/24420 [==============================] - 2s 72us/step - loss: 0.3336 - acc: 0.8437\n",
      "Epoch 8/100\n",
      "24420/24420 [==============================] - 3s 112us/step - loss: 0.3322 - acc: 0.8433\n",
      "Epoch 9/100\n",
      "24420/24420 [==============================] - 3s 106us/step - loss: 0.3318 - acc: 0.8452\n",
      "Epoch 10/100\n",
      "24420/24420 [==============================] - 2s 82us/step - loss: 0.3316 - acc: 0.8443\n",
      "Epoch 11/100\n",
      "24420/24420 [==============================] - 2s 75us/step - loss: 0.3318 - acc: 0.8441\n",
      "Epoch 12/100\n",
      "24420/24420 [==============================] - 2s 74us/step - loss: 0.3300 - acc: 0.8465\n",
      "Epoch 13/100\n",
      "24420/24420 [==============================] - 3s 111us/step - loss: 0.3306 - acc: 0.8457\n",
      "Epoch 14/100\n",
      "24420/24420 [==============================] - 2s 62us/step - loss: 0.3307 - acc: 0.8444\n",
      "Epoch 15/100\n",
      "24420/24420 [==============================] - 2s 83us/step - loss: 0.3306 - acc: 0.8444: 0s - loss: 0.3301 - acc\n",
      "Epoch 16/100\n",
      "24420/24420 [==============================] - 2s 64us/step - loss: 0.3299 - acc: 0.8462\n",
      "Epoch 17/100\n",
      "24420/24420 [==============================] - 2s 64us/step - loss: 0.3291 - acc: 0.8465\n",
      "Epoch 18/100\n",
      "24420/24420 [==============================] - 2s 73us/step - loss: 0.3297 - acc: 0.8459\n",
      "Epoch 19/100\n",
      "24420/24420 [==============================] - 2s 65us/step - loss: 0.3292 - acc: 0.8455\n",
      "Epoch 20/100\n",
      "24420/24420 [==============================] - 2s 90us/step - loss: 0.3289 - acc: 0.8460\n",
      "Epoch 21/100\n",
      "24420/24420 [==============================] - 2s 67us/step - loss: 0.3280 - acc: 0.8470\n",
      "Epoch 22/100\n",
      "24420/24420 [==============================] - 2s 62us/step - loss: 0.3285 - acc: 0.8455\n",
      "Epoch 23/100\n",
      "24420/24420 [==============================] - 2s 65us/step - loss: 0.3279 - acc: 0.8462\n",
      "Epoch 24/100\n",
      "24420/24420 [==============================] - 2s 77us/step - loss: 0.3287 - acc: 0.8452\n",
      "Epoch 25/100\n",
      "24420/24420 [==============================] - 2s 89us/step - loss: 0.3276 - acc: 0.8477\n",
      "Epoch 26/100\n",
      "24420/24420 [==============================] - 2s 68us/step - loss: 0.3278 - acc: 0.8466\n",
      "Epoch 27/100\n",
      "24420/24420 [==============================] - 1s 59us/step - loss: 0.3271 - acc: 0.8474\n",
      "Epoch 28/100\n",
      "24420/24420 [==============================] - 2s 63us/step - loss: 0.3269 - acc: 0.8473\n",
      "Epoch 29/100\n",
      "24420/24420 [==============================] - 2s 74us/step - loss: 0.3262 - acc: 0.8475\n",
      "Epoch 30/100\n",
      "24420/24420 [==============================] - 2s 63us/step - loss: 0.3269 - acc: 0.8471\n",
      "Epoch 31/100\n",
      "24420/24420 [==============================] - 2s 67us/step - loss: 0.3264 - acc: 0.8484\n",
      "Epoch 32/100\n",
      "24420/24420 [==============================] - 2s 62us/step - loss: 0.3255 - acc: 0.8485\n",
      "Epoch 33/100\n",
      "24420/24420 [==============================] - 1s 59us/step - loss: 0.3256 - acc: 0.8480\n",
      "Epoch 34/100\n",
      "24420/24420 [==============================] - 2s 90us/step - loss: 0.3253 - acc: 0.8477\n",
      "Epoch 35/100\n",
      "24420/24420 [==============================] - 2s 75us/step - loss: 0.3253 - acc: 0.8480\n",
      "Epoch 36/100\n",
      "24420/24420 [==============================] - 2s 81us/step - loss: 0.3252 - acc: 0.8475\n",
      "Epoch 37/100\n",
      "24420/24420 [==============================] - 2s 69us/step - loss: 0.3243 - acc: 0.8475\n",
      "Epoch 38/100\n",
      "24420/24420 [==============================] - 2s 74us/step - loss: 0.3247 - acc: 0.8489: 1s\n",
      "Epoch 39/100\n",
      "24420/24420 [==============================] - 2s 68us/step - loss: 0.3247 - acc: 0.8482\n",
      "Epoch 40/100\n",
      "24420/24420 [==============================] - 2s 63us/step - loss: 0.3248 - acc: 0.8478\n",
      "Epoch 41/100\n",
      "24420/24420 [==============================] - 2s 68us/step - loss: 0.3239 - acc: 0.8485\n",
      "Epoch 42/100\n",
      "24420/24420 [==============================] - 1s 60us/step - loss: 0.3237 - acc: 0.8491: 0s - loss: 0.3237 - acc: 0.849\n",
      "Epoch 43/100\n",
      "24420/24420 [==============================] - 1s 57us/step - loss: 0.3240 - acc: 0.8491\n",
      "Epoch 44/100\n",
      "24420/24420 [==============================] - 2s 62us/step - loss: 0.3239 - acc: 0.8480\n",
      "Epoch 45/100\n",
      "24420/24420 [==============================] - 2s 64us/step - loss: 0.3239 - acc: 0.8487\n",
      "Epoch 46/100\n",
      "24420/24420 [==============================] - 2s 65us/step - loss: 0.3233 - acc: 0.8499\n",
      "Epoch 47/100\n",
      "24420/24420 [==============================] - 1s 61us/step - loss: 0.3238 - acc: 0.8491\n",
      "Epoch 48/100\n",
      "24420/24420 [==============================] - 2s 65us/step - loss: 0.3231 - acc: 0.8486: 1s - \n",
      "Epoch 49/100\n",
      "24420/24420 [==============================] - 1s 60us/step - loss: 0.3230 - acc: 0.8498\n",
      "Epoch 50/100\n",
      "24420/24420 [==============================] - 1s 59us/step - loss: 0.3227 - acc: 0.8503\n",
      "Epoch 51/100\n",
      "24420/24420 [==============================] - 2s 63us/step - loss: 0.3229 - acc: 0.8499\n",
      "Epoch 52/100\n",
      "24420/24420 [==============================] - 2s 67us/step - loss: 0.3230 - acc: 0.8505\n",
      "Epoch 53/100\n",
      "24420/24420 [==============================] - 2s 63us/step - loss: 0.3232 - acc: 0.8495\n",
      "Epoch 54/100\n",
      "24420/24420 [==============================] - 2s 75us/step - loss: 0.3227 - acc: 0.8499\n",
      "Epoch 55/100\n",
      "24420/24420 [==============================] - 2s 66us/step - loss: 0.3222 - acc: 0.8488\n",
      "Epoch 56/100\n",
      "24420/24420 [==============================] - 2s 67us/step - loss: 0.3228 - acc: 0.8492: 0s - loss: 0.3229 - acc: 0.\n",
      "Epoch 57/100\n",
      "24420/24420 [==============================] - 1s 57us/step - loss: 0.3223 - acc: 0.8497\n",
      "Epoch 58/100\n",
      "24420/24420 [==============================] - 2s 67us/step - loss: 0.3220 - acc: 0.8502\n",
      "Epoch 59/100\n",
      "24420/24420 [==============================] - 1s 61us/step - loss: 0.3222 - acc: 0.8487\n",
      "Epoch 60/100\n",
      "24420/24420 [==============================] - 2s 64us/step - loss: 0.3219 - acc: 0.8500\n",
      "Epoch 61/100\n",
      "24420/24420 [==============================] - 2s 66us/step - loss: 0.3223 - acc: 0.8496\n",
      "Epoch 62/100\n",
      "24420/24420 [==============================] - 2s 76us/step - loss: 0.3221 - acc: 0.8486\n",
      "Epoch 63/100\n",
      "24420/24420 [==============================] - 2s 69us/step - loss: 0.3222 - acc: 0.8490\n",
      "Epoch 64/100\n",
      "24420/24420 [==============================] - 2s 62us/step - loss: 0.3227 - acc: 0.8488\n",
      "Epoch 65/100\n",
      "24420/24420 [==============================] - 2s 74us/step - loss: 0.3221 - acc: 0.8493\n",
      "Epoch 66/100\n",
      "24420/24420 [==============================] - 2s 63us/step - loss: 0.3219 - acc: 0.8490\n",
      "Epoch 67/100\n",
      "24420/24420 [==============================] - 2s 84us/step - loss: 0.3222 - acc: 0.8495\n",
      "Epoch 68/100\n",
      "24420/24420 [==============================] - 2s 71us/step - loss: 0.3217 - acc: 0.8484\n",
      "Epoch 69/100\n",
      "24420/24420 [==============================] - 1s 59us/step - loss: 0.3221 - acc: 0.8471\n",
      "Epoch 70/100\n",
      "24420/24420 [==============================] - 2s 94us/step - loss: 0.3217 - acc: 0.8482\n",
      "Epoch 71/100\n",
      "24420/24420 [==============================] - 1s 61us/step - loss: 0.3213 - acc: 0.8488\n",
      "Epoch 72/100\n",
      "24420/24420 [==============================] - 3s 108us/step - loss: 0.3214 - acc: 0.8508\n",
      "Epoch 73/100\n",
      "24420/24420 [==============================] - 1s 58us/step - loss: 0.3214 - acc: 0.8491\n",
      "Epoch 74/100\n",
      "24420/24420 [==============================] - 1s 55us/step - loss: 0.3218 - acc: 0.8506\n",
      "Epoch 75/100\n",
      "24420/24420 [==============================] - 1s 55us/step - loss: 0.3218 - acc: 0.8499\n",
      "Epoch 76/100\n",
      "24420/24420 [==============================] - 1s 57us/step - loss: 0.3217 - acc: 0.8499\n",
      "Epoch 77/100\n",
      "24420/24420 [==============================] - 1s 58us/step - loss: 0.3219 - acc: 0.8498\n",
      "Epoch 78/100\n",
      "24420/24420 [==============================] - 2s 88us/step - loss: 0.3208 - acc: 0.8506\n",
      "Epoch 79/100\n",
      "24420/24420 [==============================] - 2s 69us/step - loss: 0.3211 - acc: 0.8507: 1s - \n",
      "Epoch 80/100\n",
      "24420/24420 [==============================] - 2s 83us/step - loss: 0.3212 - acc: 0.8515: 0s - loss: 0.321 - ETA: 0s - loss: 0.3214 - acc: 0.8\n",
      "Epoch 81/100\n",
      "24420/24420 [==============================] - 2s 81us/step - loss: 0.3215 - acc: 0.8494\n",
      "Epoch 82/100\n",
      "24420/24420 [==============================] - 2s 76us/step - loss: 0.3209 - acc: 0.8501\n",
      "Epoch 83/100\n",
      "24420/24420 [==============================] - 1s 61us/step - loss: 0.3214 - acc: 0.8505\n",
      "Epoch 84/100\n",
      "24420/24420 [==============================] - 2s 63us/step - loss: 0.3214 - acc: 0.8508\n",
      "Epoch 85/100\n",
      "24420/24420 [==============================] - 1s 57us/step - loss: 0.3208 - acc: 0.8514\n",
      "Epoch 86/100\n",
      "24420/24420 [==============================] - 1s 59us/step - loss: 0.3209 - acc: 0.8500\n",
      "Epoch 87/100\n",
      "24420/24420 [==============================] - 1s 60us/step - loss: 0.3210 - acc: 0.8505\n",
      "Epoch 88/100\n",
      "24420/24420 [==============================] - 1s 58us/step - loss: 0.3212 - acc: 0.8497\n",
      "Epoch 89/100\n",
      "24420/24420 [==============================] - 1s 56us/step - loss: 0.3210 - acc: 0.8523\n",
      "Epoch 90/100\n",
      "24420/24420 [==============================] - 2s 67us/step - loss: 0.3206 - acc: 0.8518\n",
      "Epoch 91/100\n",
      "24420/24420 [==============================] - 1s 59us/step - loss: 0.3204 - acc: 0.8505\n",
      "Epoch 92/100\n",
      "24420/24420 [==============================] - 2s 81us/step - loss: 0.3201 - acc: 0.8498\n",
      "Epoch 93/100\n",
      "24420/24420 [==============================] - 1s 60us/step - loss: 0.3204 - acc: 0.8505\n",
      "Epoch 94/100\n",
      "24420/24420 [==============================] - 2s 71us/step - loss: 0.3199 - acc: 0.8505\n",
      "Epoch 95/100\n",
      "24420/24420 [==============================] - 2s 67us/step - loss: 0.3207 - acc: 0.8505\n",
      "Epoch 96/100\n",
      "24420/24420 [==============================] - 2s 77us/step - loss: 0.3197 - acc: 0.8506\n",
      "Epoch 97/100\n",
      "24420/24420 [==============================] - 2s 80us/step - loss: 0.3202 - acc: 0.8516\n",
      "Epoch 98/100\n",
      "24420/24420 [==============================] - 2s 63us/step - loss: 0.3201 - acc: 0.8502\n",
      "Epoch 99/100\n",
      "24420/24420 [==============================] - 1s 57us/step - loss: 0.3197 - acc: 0.8516\n",
      "Epoch 100/100\n",
      "24420/24420 [==============================] - 1s 59us/step - loss: 0.3207 - acc: 0.8517\n"
     ]
    }
   ],
   "source": [
    "#Define o tempo de inicio do Treinamento\n",
    "inicio = datetime.now()\n",
    "\n",
    "# Realiza o treinamento da rede.\n",
    "classificador.fit(previsores_treinamento, classe_treinamento, batch_size = 10, epochs = 100)\n",
    "\n",
    "#Define o tempo final do Treinamento\n",
    "fim = datetime.now()   \n",
    "tempo_modelo = (fim - inicio).total_seconds()\n"
   ]
  },
  {
   "cell_type": "code",
   "execution_count": 19,
   "metadata": {},
   "outputs": [
    {
     "name": "stdout",
     "output_type": "stream",
     "text": [
      "\n",
      "Tempo de Treinamento: 169.659337 segundos\n"
     ]
    }
   ],
   "source": [
    "print('\\nTempo de Treinamento: %s segundos' % tempo_modelo )"
   ]
  },
  {
   "cell_type": "code",
   "execution_count": 20,
   "metadata": {},
   "outputs": [],
   "source": [
    "# Resultados:\n",
    "\n",
    "# Tempo de Treinamento usando a GPU:  469.941199 segundos\n",
    "# Tempo de Treinamento usando a CPU:  169.659337 segundos    "
   ]
  },
  {
   "cell_type": "code",
   "execution_count": 21,
   "metadata": {},
   "outputs": [
    {
     "data": {
      "text/plain": [
       "array([[0.01531097],\n",
       "       [0.01893675],\n",
       "       [0.29823634],\n",
       "       ...,\n",
       "       [0.2565147 ],\n",
       "       [0.6970377 ],\n",
       "       [0.03089911]], dtype=float32)"
      ]
     },
     "execution_count": 21,
     "metadata": {},
     "output_type": "execute_result"
    }
   ],
   "source": [
    "# Realizando o testes do modelo\n",
    "classe_prevista_teste = classificador.predict(previsores_teste)\n",
    "classe_prevista_teste"
   ]
  },
  {
   "cell_type": "code",
   "execution_count": 22,
   "metadata": {},
   "outputs": [
    {
     "data": {
      "text/plain": [
       "array([[False],\n",
       "       [False],\n",
       "       [False],\n",
       "       ...,\n",
       "       [False],\n",
       "       [ True],\n",
       "       [False]])"
      ]
     },
     "execution_count": 22,
     "metadata": {},
     "output_type": "execute_result"
    }
   ],
   "source": [
    "# Converte os resultados para conferencia\n",
    "classe_prevista_teste = (classe_prevista_teste > 0.5)\n",
    "classe_prevista_teste"
   ]
  },
  {
   "cell_type": "markdown",
   "metadata": {},
   "source": [
    "# Verificando a performance do Modelo"
   ]
  },
  {
   "cell_type": "code",
   "execution_count": 23,
   "metadata": {},
   "outputs": [
    {
     "name": "stdout",
     "output_type": "stream",
     "text": [
      "Acurácia do Modelo: 84.67% \n"
     ]
    }
   ],
   "source": [
    "# Analisando a performance do Modelo\n",
    "from sklearn.metrics import confusion_matrix, accuracy_score,classification_report\n",
    "precisao_modelo = accuracy_score(classe_teste, classe_prevista_teste)\n",
    "print('Acurácia do Modelo: %.2f%% ' % (precisao_modelo*100))\n"
   ]
  },
  {
   "cell_type": "code",
   "execution_count": 24,
   "metadata": {},
   "outputs": [
    {
     "name": "stdout",
     "output_type": "stream",
     "text": [
      "\tRelatório de Classificação do modelo\n",
      "              precision    recall  f1-score   support\n",
      "\n",
      "           0     0.8662    0.9430    0.9030      6159\n",
      "           1     0.7556    0.5474    0.6349      1982\n",
      "\n",
      "    accuracy                         0.8467      8141\n",
      "   macro avg     0.8109    0.7452    0.7689      8141\n",
      "weighted avg     0.8393    0.8467    0.8377      8141\n",
      "\n"
     ]
    }
   ],
   "source": [
    "# Relatório de Classificação\n",
    "from sklearn.metrics import classification_report\n",
    "\n",
    "#precision -  daqueles que classifiquei como corretos, quantos efetivamente estavam corretos? \n",
    "#recall    -  quando realmente é da classe XPTO, o quão frequente você classifica como XPTO?\n",
    "#f1-score  -  balanço entre a precisão e o recall. Combina precisão e recall em um número único que indique a qualidade geral do seu modelo (quanto maior melhor o modelo).\n",
    "#support   -  número de ocorrência de cada classe.\n",
    "\n",
    "relatorio_classificacao = classification_report(classe_teste, classe_prevista_teste ,digits=4)\n",
    "\n",
    "# Imprimindo o relatório\n",
    "print('\\tRelatório de Classificação do modelo')\n",
    "print(relatorio_classificacao)"
   ]
  },
  {
   "cell_type": "code",
   "execution_count": 25,
   "metadata": {},
   "outputs": [
    {
     "name": "stdout",
     "output_type": "stream",
     "text": [
      "\n",
      "\n",
      "Obs.: Nas linhas temos as Classes reais e nas colunas as Classes previstas.\n",
      "\n",
      "Matriz de Confusão\n"
     ]
    },
    {
     "data": {
      "text/html": [
       "<div>\n",
       "<style scoped>\n",
       "    .dataframe tbody tr th:only-of-type {\n",
       "        vertical-align: middle;\n",
       "    }\n",
       "\n",
       "    .dataframe tbody tr th {\n",
       "        vertical-align: top;\n",
       "    }\n",
       "\n",
       "    .dataframe thead th {\n",
       "        text-align: right;\n",
       "    }\n",
       "</style>\n",
       "<table border=\"1\" class=\"dataframe\">\n",
       "  <thead>\n",
       "    <tr style=\"text-align: right;\">\n",
       "      <th></th>\n",
       "      <th>0</th>\n",
       "      <th>1</th>\n",
       "    </tr>\n",
       "  </thead>\n",
       "  <tbody>\n",
       "    <tr>\n",
       "      <th>0</th>\n",
       "      <td>5808</td>\n",
       "      <td>351</td>\n",
       "    </tr>\n",
       "    <tr>\n",
       "      <th>1</th>\n",
       "      <td>897</td>\n",
       "      <td>1085</td>\n",
       "    </tr>\n",
       "  </tbody>\n",
       "</table>\n",
       "</div>"
      ],
      "text/plain": [
       "      0     1\n",
       "0  5808   351\n",
       "1   897  1085"
      ]
     },
     "execution_count": 25,
     "metadata": {},
     "output_type": "execute_result"
    }
   ],
   "source": [
    "# Visualizando a Matriz de confusão (confusion matrix)\n",
    "from sklearn.metrics import confusion_matrix\n",
    "cm = confusion_matrix(classe_teste, classe_prevista_teste) \n",
    "\n",
    "df_cm = pd.DataFrame(cm)\n",
    "\n",
    "print('\\n')\n",
    "print('Obs.: Nas linhas temos as Classes reais e nas colunas as Classes previstas.\\n')\n",
    "print('Matriz de Confusão')\n",
    "df_cm"
   ]
  },
  {
   "cell_type": "code",
   "execution_count": 26,
   "metadata": {},
   "outputs": [
    {
     "name": "stdout",
     "output_type": "stream",
     "text": [
      "\n",
      "De 8141 classes o modelo ACERTOU 6893 classes e ERROU 1248 classes.\n",
      " \n"
     ]
    },
    {
     "data": {
      "text/html": [
       "<div>\n",
       "<style scoped>\n",
       "    .dataframe tbody tr th:only-of-type {\n",
       "        vertical-align: middle;\n",
       "    }\n",
       "\n",
       "    .dataframe tbody tr th {\n",
       "        vertical-align: top;\n",
       "    }\n",
       "\n",
       "    .dataframe thead th {\n",
       "        text-align: right;\n",
       "    }\n",
       "</style>\n",
       "<table border=\"1\" class=\"dataframe\">\n",
       "  <thead>\n",
       "    <tr style=\"text-align: right;\">\n",
       "      <th></th>\n",
       "      <th>Classe_Prevista</th>\n",
       "      <th>Classe_Real</th>\n",
       "    </tr>\n",
       "    <tr>\n",
       "      <th>Comparacao</th>\n",
       "      <th></th>\n",
       "      <th></th>\n",
       "    </tr>\n",
       "  </thead>\n",
       "  <tbody>\n",
       "    <tr>\n",
       "      <th>False</th>\n",
       "      <td>1248</td>\n",
       "      <td>1248</td>\n",
       "    </tr>\n",
       "    <tr>\n",
       "      <th>True</th>\n",
       "      <td>6893</td>\n",
       "      <td>6893</td>\n",
       "    </tr>\n",
       "  </tbody>\n",
       "</table>\n",
       "</div>"
      ],
      "text/plain": [
       "            Classe_Prevista  Classe_Real\n",
       "Comparacao                              \n",
       "False                  1248         1248\n",
       "True                   6893         6893"
      ]
     },
     "execution_count": 26,
     "metadata": {},
     "output_type": "execute_result"
    }
   ],
   "source": [
    "# Comparando a Classe Prevista com a Classe Real\n",
    "\n",
    "df = pd.DataFrame( )\n",
    "df['Classe_Prevista'] = classe_prevista_teste.ravel()\n",
    "df['Classe_Real'] = classe_teste\n",
    "df['Comparacao'] = df['Classe_Prevista'] == df['Classe_Real']\n",
    "\n",
    "df_comparacao = df.groupby(by='Comparacao').count()\n",
    "\n",
    "print('\\nDe %d classes o modelo ACERTOU %d classes e ERROU %d classes.\\n ' % (df_comparacao['Classe_Prevista'].sum(), df_comparacao.iloc[[1], [0]].values, df_comparacao.iloc[[0], [0]].values))\n",
    "\n",
    "df_comparacao"
   ]
  },
  {
   "cell_type": "code",
   "execution_count": null,
   "metadata": {},
   "outputs": [],
   "source": []
  },
  {
   "cell_type": "code",
   "execution_count": null,
   "metadata": {},
   "outputs": [],
   "source": []
  }
 ],
 "metadata": {
  "kernelspec": {
   "display_name": "Python 3",
   "language": "python",
   "name": "python3"
  },
  "language_info": {
   "codemirror_mode": {
    "name": "ipython",
    "version": 3
   },
   "file_extension": ".py",
   "mimetype": "text/x-python",
   "name": "python",
   "nbconvert_exporter": "python",
   "pygments_lexer": "ipython3",
   "version": "3.7.3"
  }
 },
 "nbformat": 4,
 "nbformat_minor": 4
}
